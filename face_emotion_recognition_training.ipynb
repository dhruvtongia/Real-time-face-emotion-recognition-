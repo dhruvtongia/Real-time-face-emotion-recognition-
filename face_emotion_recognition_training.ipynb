{
  "nbformat": 4,
  "nbformat_minor": 0,
  "metadata": {
    "colab": {
      "name": "face emotion recognition training.ipynb",
      "provenance": [],
      "collapsed_sections": []
    },
    "kernelspec": {
      "name": "python3",
      "display_name": "Python 3"
    },
    "accelerator": "GPU"
  },
  "cells": [
    {
      "cell_type": "markdown",
      "metadata": {
        "id": "5Bd6noMhIbPw"
      },
      "source": [
        "Creating and Training the convolutional neural network from scratch using the Fer3013 dataset which contains the following 7 different emotions/gestures\n",
        "1. Angry\n",
        "2. Disgust\n",
        "3. Fear\n",
        "4. Happy \n",
        "5. Sad\n",
        "6. Surprise\n",
        "7. Neutral "
      ]
    },
    {
      "cell_type": "markdown",
      "metadata": {
        "id": "aNQFBdSqJPp3"
      },
      "source": [
        "Loading the necessary Libraries "
      ]
    },
    {
      "cell_type": "code",
      "metadata": {
        "id": "pSI5rrSdVa6D"
      },
      "source": [
        "import numpy as np\n",
        "import pandas as pd\n",
        "import matplotlib.pyplot as plt\n",
        "import tensorflow as tf\n",
        "\n",
        "%matplotlib inline "
      ],
      "execution_count": 2,
      "outputs": []
    },
    {
      "cell_type": "markdown",
      "metadata": {
        "id": "iQnqIBQeJYY5"
      },
      "source": [
        "MOunting the google drive where data is kept in \"archive.zip\" file.\n",
        "\n",
        "Unzipping the file"
      ]
    },
    {
      "cell_type": "code",
      "metadata": {
        "id": "SL9hxUImHFr8",
        "outputId": "aad351a0-9650-48a4-8aed-443267b21e52",
        "colab": {
          "base_uri": "https://localhost:8080/",
          "height": 34
        }
      },
      "source": [
        "from google.colab import drive\n",
        "drive.mount('/content/drive')"
      ],
      "execution_count": 3,
      "outputs": [
        {
          "output_type": "stream",
          "text": [
            "Drive already mounted at /content/drive; to attempt to forcibly remount, call drive.mount(\"/content/drive\", force_remount=True).\n"
          ],
          "name": "stdout"
        }
      ]
    },
    {
      "cell_type": "code",
      "metadata": {
        "id": "ranAD-EVdpJl",
        "outputId": "266c8edf-37c0-4a49-e895-6d9a8a4580ad",
        "colab": {
          "base_uri": "https://localhost:8080/",
          "height": 34
        }
      },
      "source": [
        "from zipfile import ZipFile\n",
        "file_name='/content/drive/My Drive/archive.zip'\n",
        "\n",
        "with ZipFile(file_name,'r') as zip:\n",
        "  zip.extractall()\n",
        "  print('Done')"
      ],
      "execution_count": 4,
      "outputs": [
        {
          "output_type": "stream",
          "text": [
            "Done\n"
          ],
          "name": "stdout"
        }
      ]
    },
    {
      "cell_type": "code",
      "metadata": {
        "id": "R5pjC8gBebo5"
      },
      "source": [
        "df=pd.read_csv('fer2013.csv')"
      ],
      "execution_count": 5,
      "outputs": []
    },
    {
      "cell_type": "code",
      "metadata": {
        "id": "MEH6M0H6kosP",
        "outputId": "b0339191-8fbd-4d4b-8c23-56818590f7bc",
        "colab": {
          "base_uri": "https://localhost:8080/",
          "height": 195
        }
      },
      "source": [
        "df.head()"
      ],
      "execution_count": 6,
      "outputs": [
        {
          "output_type": "execute_result",
          "data": {
            "text/html": [
              "<div>\n",
              "<style scoped>\n",
              "    .dataframe tbody tr th:only-of-type {\n",
              "        vertical-align: middle;\n",
              "    }\n",
              "\n",
              "    .dataframe tbody tr th {\n",
              "        vertical-align: top;\n",
              "    }\n",
              "\n",
              "    .dataframe thead th {\n",
              "        text-align: right;\n",
              "    }\n",
              "</style>\n",
              "<table border=\"1\" class=\"dataframe\">\n",
              "  <thead>\n",
              "    <tr style=\"text-align: right;\">\n",
              "      <th></th>\n",
              "      <th>emotion</th>\n",
              "      <th>pixels</th>\n",
              "      <th>Usage</th>\n",
              "    </tr>\n",
              "  </thead>\n",
              "  <tbody>\n",
              "    <tr>\n",
              "      <th>0</th>\n",
              "      <td>0</td>\n",
              "      <td>70 80 82 72 58 58 60 63 54 58 60 48 89 115 121...</td>\n",
              "      <td>Training</td>\n",
              "    </tr>\n",
              "    <tr>\n",
              "      <th>1</th>\n",
              "      <td>0</td>\n",
              "      <td>151 150 147 155 148 133 111 140 170 174 182 15...</td>\n",
              "      <td>Training</td>\n",
              "    </tr>\n",
              "    <tr>\n",
              "      <th>2</th>\n",
              "      <td>2</td>\n",
              "      <td>231 212 156 164 174 138 161 173 182 200 106 38...</td>\n",
              "      <td>Training</td>\n",
              "    </tr>\n",
              "    <tr>\n",
              "      <th>3</th>\n",
              "      <td>4</td>\n",
              "      <td>24 32 36 30 32 23 19 20 30 41 21 22 32 34 21 1...</td>\n",
              "      <td>Training</td>\n",
              "    </tr>\n",
              "    <tr>\n",
              "      <th>4</th>\n",
              "      <td>6</td>\n",
              "      <td>4 0 0 0 0 0 0 0 0 0 0 0 3 15 23 28 48 50 58 84...</td>\n",
              "      <td>Training</td>\n",
              "    </tr>\n",
              "  </tbody>\n",
              "</table>\n",
              "</div>"
            ],
            "text/plain": [
              "   emotion                                             pixels     Usage\n",
              "0        0  70 80 82 72 58 58 60 63 54 58 60 48 89 115 121...  Training\n",
              "1        0  151 150 147 155 148 133 111 140 170 174 182 15...  Training\n",
              "2        2  231 212 156 164 174 138 161 173 182 200 106 38...  Training\n",
              "3        4  24 32 36 30 32 23 19 20 30 41 21 22 32 34 21 1...  Training\n",
              "4        6  4 0 0 0 0 0 0 0 0 0 0 0 3 15 23 28 48 50 58 84...  Training"
            ]
          },
          "metadata": {
            "tags": []
          },
          "execution_count": 6
        }
      ]
    },
    {
      "cell_type": "code",
      "metadata": {
        "id": "MQu8O4_fksG6",
        "outputId": "fdb6a092-68e2-4740-a476-2ae2eede2845",
        "colab": {
          "base_uri": "https://localhost:8080/",
          "height": 34
        }
      },
      "source": [
        "df.shape"
      ],
      "execution_count": 7,
      "outputs": [
        {
          "output_type": "execute_result",
          "data": {
            "text/plain": [
              "(35887, 3)"
            ]
          },
          "metadata": {
            "tags": []
          },
          "execution_count": 7
        }
      ]
    },
    {
      "cell_type": "code",
      "metadata": {
        "id": "Pa9I43euPfi5",
        "outputId": "8feeacf5-7017-4f3a-9e13-a7b3b145a676",
        "colab": {
          "base_uri": "https://localhost:8080/",
          "height": 84
        }
      },
      "source": [
        "df['Usage'].value_counts()"
      ],
      "execution_count": 8,
      "outputs": [
        {
          "output_type": "execute_result",
          "data": {
            "text/plain": [
              "Training       28709\n",
              "PrivateTest     3589\n",
              "PublicTest      3589\n",
              "Name: Usage, dtype: int64"
            ]
          },
          "metadata": {
            "tags": []
          },
          "execution_count": 8
        }
      ]
    },
    {
      "cell_type": "markdown",
      "metadata": {
        "id": "rVpxgrFPJseV"
      },
      "source": [
        "The file has three different categories for data i.e. , data for\n",
        "1. Training\n",
        "2. Validation\n",
        "3. Testing "
      ]
    },
    {
      "cell_type": "code",
      "metadata": {
        "id": "teby_HoeH3sl"
      },
      "source": [
        "training_data=df['pixels'][(df['Usage']=='Training') ]\n",
        "training_data=np.array(list(map(str.split,training_data)),np.float32)\n",
        "\n",
        "val_data=df['pixels'][(df['Usage']=='PublicTest') ]\n",
        "val_data=np.array(list(map(str.split,val_data)),np.float32)\n",
        "\n",
        "\n",
        "testing_data=df['pixels'][(df['Usage']== 'PrivateTest')]\n",
        "testing_data=np.array(list(map(str.split,testing_data)),np.float32)\n",
        "\n"
      ],
      "execution_count": 10,
      "outputs": []
    },
    {
      "cell_type": "code",
      "metadata": {
        "id": "o6j4bp2nSIIE",
        "outputId": "ac4e485c-c7a6-490d-f19f-0b9402c67a09",
        "colab": {
          "base_uri": "https://localhost:8080/",
          "height": 151
        }
      },
      "source": [
        "print(training_data.shape)\n",
        "print(training_data)\n"
      ],
      "execution_count": 11,
      "outputs": [
        {
          "output_type": "stream",
          "text": [
            "(28709, 2304)\n",
            "[[ 70.  80.  82. ... 106. 109.  82.]\n",
            " [151. 150. 147. ... 193. 183. 184.]\n",
            " [231. 212. 156. ...  88. 110. 152.]\n",
            " ...\n",
            " [ 74.  81.  87. ... 188. 187. 187.]\n",
            " [222. 227. 203. ... 136. 136. 134.]\n",
            " [195. 199. 205. ...   6.  15.  38.]]\n"
          ],
          "name": "stdout"
        }
      ]
    },
    {
      "cell_type": "code",
      "metadata": {
        "id": "Bno-WHPwSs3K",
        "outputId": "3bf1a4a5-634e-42b6-bf99-7948a3e0040a",
        "colab": {
          "base_uri": "https://localhost:8080/",
          "height": 151
        }
      },
      "source": [
        "print(val_data.shape)\n",
        "print(val_data)\n"
      ],
      "execution_count": 12,
      "outputs": [
        {
          "output_type": "stream",
          "text": [
            "(3589, 2304)\n",
            "[[254. 254. 254. ...  42. 129. 180.]\n",
            " [156. 184. 198. ... 172. 167. 161.]\n",
            " [ 69. 118.  61. ...  88.  87.  90.]\n",
            " ...\n",
            " [255. 255. 255. ...  48.  50.  46.]\n",
            " [ 33.  25.  31. ...   4.   5.   4.]\n",
            " [ 61.  63.  59. ... 113. 165. 180.]]\n"
          ],
          "name": "stdout"
        }
      ]
    },
    {
      "cell_type": "code",
      "metadata": {
        "id": "SQEdtnZJ6d8J",
        "outputId": "0a1b1890-d806-4568-e32f-3d5fb38d4442",
        "colab": {
          "base_uri": "https://localhost:8080/",
          "height": 235
        }
      },
      "source": [
        "#rescaling the validation data\n",
        "val_data=val_data/255.0\n",
        "val_data\n"
      ],
      "execution_count": 13,
      "outputs": [
        {
          "output_type": "execute_result",
          "data": {
            "text/plain": [
              "array([[0.99607843, 0.99607843, 0.99607843, ..., 0.16470589, 0.5058824 ,\n",
              "        0.7058824 ],\n",
              "       [0.6117647 , 0.72156864, 0.7764706 , ..., 0.6745098 , 0.654902  ,\n",
              "        0.6313726 ],\n",
              "       [0.27058825, 0.4627451 , 0.23921569, ..., 0.34509805, 0.34117648,\n",
              "        0.3529412 ],\n",
              "       ...,\n",
              "       [1.        , 1.        , 1.        , ..., 0.1882353 , 0.19607843,\n",
              "        0.18039216],\n",
              "       [0.12941177, 0.09803922, 0.12156863, ..., 0.01568628, 0.01960784,\n",
              "        0.01568628],\n",
              "       [0.23921569, 0.24705882, 0.23137255, ..., 0.44313726, 0.64705884,\n",
              "        0.7058824 ]], dtype=float32)"
            ]
          },
          "metadata": {
            "tags": []
          },
          "execution_count": 13
        }
      ]
    },
    {
      "cell_type": "markdown",
      "metadata": {
        "id": "FOKpIOcbKDln"
      },
      "source": [
        "splitting the labels into three categories based on their Usage"
      ]
    },
    {
      "cell_type": "code",
      "metadata": {
        "id": "Ix6xv7ldiS66",
        "outputId": "93a00445-f70c-41a8-ccf7-def89104880b",
        "colab": {
          "base_uri": "https://localhost:8080/",
          "height": 34
        }
      },
      "source": [
        "y_train=df['emotion'][(df['Usage']=='Training') ]\n",
        "y_train=np.array(y_train)\n",
        "y_train"
      ],
      "execution_count": 14,
      "outputs": [
        {
          "output_type": "execute_result",
          "data": {
            "text/plain": [
              "array([0, 0, 2, ..., 4, 0, 4])"
            ]
          },
          "metadata": {
            "tags": []
          },
          "execution_count": 14
        }
      ]
    },
    {
      "cell_type": "code",
      "metadata": {
        "id": "Ba7m36E2oyWz",
        "outputId": "e100dcaf-2f1f-40e2-b139-353bd25d23bd",
        "colab": {
          "base_uri": "https://localhost:8080/",
          "height": 34
        }
      },
      "source": [
        "y_val=df['emotion'][(df['Usage']=='PublicTest')]\n",
        "y_val=np.array(y_val)\n",
        "y_val"
      ],
      "execution_count": 15,
      "outputs": [
        {
          "output_type": "execute_result",
          "data": {
            "text/plain": [
              "array([0, 1, 4, ..., 4, 4, 4])"
            ]
          },
          "metadata": {
            "tags": []
          },
          "execution_count": 15
        }
      ]
    },
    {
      "cell_type": "code",
      "metadata": {
        "id": "5JFJa1XhoUh4",
        "outputId": "2fbc2dca-4f58-4237-f2c0-7faa4feea061",
        "colab": {
          "base_uri": "https://localhost:8080/",
          "height": 34
        }
      },
      "source": [
        "y_test=df['emotion'][(df['Usage']=='PrivateTest')]\n",
        "y_test=np.array(y_test)\n",
        "y_test"
      ],
      "execution_count": 16,
      "outputs": [
        {
          "output_type": "execute_result",
          "data": {
            "text/plain": [
              "array([0, 5, 6, ..., 0, 3, 2])"
            ]
          },
          "metadata": {
            "tags": []
          },
          "execution_count": 16
        }
      ]
    },
    {
      "cell_type": "code",
      "metadata": {
        "id": "S1afstm1TCf2",
        "outputId": "377c9acd-a259-49e1-99cd-0ac75b5c7156",
        "colab": {
          "base_uri": "https://localhost:8080/",
          "height": 67
        }
      },
      "source": [
        "#Reshaping the data so as to fit according to the CNN model \n",
        "\n",
        "training_data=training_data.reshape(training_data.shape[0],48,48,1)\n",
        "val_data=val_data.reshape(val_data.shape[0],48,48,1)\n",
        "testing_data=testing_data.reshape(testing_data.shape[0],48,48,1)\n",
        "\n",
        "print(training_data.shape)\n",
        "print(val_data.shape)\n",
        "print(testing_data.shape)"
      ],
      "execution_count": 17,
      "outputs": [
        {
          "output_type": "stream",
          "text": [
            "(28709, 48, 48, 1)\n",
            "(3589, 48, 48, 1)\n",
            "(3589, 48, 48, 1)\n"
          ],
          "name": "stdout"
        }
      ]
    },
    {
      "cell_type": "code",
      "metadata": {
        "id": "GFtwSVMHTBQw",
        "outputId": "0b045f8c-d1e9-4ae3-b014-6cf60cbc2a94",
        "colab": {
          "base_uri": "https://localhost:8080/",
          "height": 34
        }
      },
      "source": [
        "\n",
        "num_classes = 7\n",
        "\n",
        "emotion_labels = [\"Angry\", \"Disgust\", \"Fear\", \"Happy\", \"Sad\", \"Surprise\", \"Neutral\"]\n",
        "emotion_labels=np.array(emotion_labels)\n",
        "\n",
        "print(emotion_labels)"
      ],
      "execution_count": 18,
      "outputs": [
        {
          "output_type": "stream",
          "text": [
            "['Angry' 'Disgust' 'Fear' 'Happy' 'Sad' 'Surprise' 'Neutral']\n"
          ],
          "name": "stdout"
        }
      ]
    },
    {
      "cell_type": "code",
      "metadata": {
        "id": "oftt8GEfmW1i",
        "outputId": "972e6d95-898e-47cb-c89a-b92501c9bad3",
        "colab": {
          "base_uri": "https://localhost:8080/",
          "height": 284
        }
      },
      "source": [
        "plt.imshow(training_data[100].reshape(48,48),cmap='gray')\n",
        "print(emotion_labels[y_train[100]])"
      ],
      "execution_count": 19,
      "outputs": [
        {
          "output_type": "stream",
          "text": [
            "Happy\n"
          ],
          "name": "stdout"
        },
        {
          "output_type": "display_data",
          "data": {
            "image/png": "[encoded data removed]",
            "text/plain": [
              "<Figure size 432x288 with 1 Axes>"
            ]
          },
          "metadata": {
            "tags": [],
            "needs_background": "light"
          }
        }
      ]
    },
    {
      "cell_type": "code",
      "metadata": {
        "id": "5q7KCewcy3Ri",
        "outputId": "17efa431-e613-49d6-826c-efd65f5c0c55",
        "colab": {
          "base_uri": "https://localhost:8080/",
          "height": 284
        }
      },
      "source": [
        "plt.imshow(val_data[1000].reshape(48,48),cmap='gray')\n",
        "print(emotion_labels[y_val[1000]])"
      ],
      "execution_count": 20,
      "outputs": [
        {
          "output_type": "stream",
          "text": [
            "Fear\n"
          ],
          "name": "stdout"
        },
        {
          "output_type": "display_data",
          "data": {
            "image/png": "[encoded data removed]",
            "text/plain": [
              "<Figure size 432x288 with 1 Axes>"
            ]
          },
          "metadata": {
            "tags": [],
            "needs_background": "light"
          }
        }
      ]
    },
    {
      "cell_type": "code",
      "metadata": {
        "id": "Ogqo0VcTIXlb"
      },
      "source": [
        "# performing data agumentation for better training of the model by applying various methods such as rescaling, rotation, shift, zoom, and many more....presented below\n",
        "\n",
        "train_datagen=tf.keras.preprocessing.image.ImageDataGenerator(rescale = 1/255.0, # rescaling\n",
        "                                   rotation_range = 10,  \n",
        "                                   width_shift_range = 0.1,\n",
        "                                   fill_mode='nearest',\n",
        "                                   #validation_split = 0.2,\n",
        "                                   height_shift_range = 0.1,\n",
        "                                   shear_range = 0.1,\n",
        "                                   #zoom_range = [0.5,1.0],\n",
        "                                   #brightness_range=(0.3, 0.9),\n",
        "                                   #channel_shift_range=150.0,\n",
        "                                   vertical_flip = True ,\n",
        "                                   horizontal_flip = True\n",
        "                                   )\n",
        "\n",
        "\n",
        "\n",
        "\n",
        "train_datagen.fit(training_data)\n",
        "\n"
      ],
      "execution_count": 21,
      "outputs": []
    },
    {
      "cell_type": "code",
      "metadata": {
        "id": "K5bLdJymYzYY",
        "outputId": "098aed45-8016-4510-c943-a5e99707b57d",
        "colab": {
          "base_uri": "https://localhost:8080/",
          "height": 1000
        }
      },
      "source": [
        "#creating the model \n",
        "\n",
        "input_size=(48,48,1)\n",
        "\n",
        "model=tf.keras.Sequential()\n",
        "\n",
        "# Block-1\n",
        "model.add(tf.keras.layers.Conv2D(32,(3,3),strides=(1,1),padding='same',activation='relu',input_shape=input_size))\n",
        "model.add(tf.keras.layers.Conv2D(32,(3,3),strides=(1,1),padding='same',activation='relu'))\n",
        "model.add(tf.keras.layers.BatchNormalization())\n",
        "model.add(tf.keras.layers.Dropout(rate=0.2))\n",
        "\n",
        "# Block-2\n",
        "model.add(tf.keras.layers.Conv2D(64,(3,3),strides=(1,1),padding='same',activation='relu',input_shape=input_size))\n",
        "model.add(tf.keras.layers.Conv2D(128,(3,3),strides=(1,1),padding='same',activation='relu'))\n",
        "model.add(tf.keras.layers.BatchNormalization())\n",
        "model.add(tf.keras.layers.Dropout(rate=0.5))\n",
        "model.add(tf.keras.layers.MaxPooling2D(strides=(2,2)))\n",
        "\n",
        "# Block-3\n",
        "model.add(tf.keras.layers.Conv2D(256,(3,3),strides=(1,1),padding='same',activation='relu'))\n",
        "model.add(tf.keras.layers.Conv2D(256,(3,3),strides=(1,1),padding='same',activation='relu'))\n",
        "model.add(tf.keras.layers.BatchNormalization())\n",
        "model.add(tf.keras.layers.Dropout(rate=0.5))\n",
        "model.add(tf.keras.layers.MaxPooling2D(strides=(2,2)))\n",
        "\n",
        "# Block-4\n",
        "model.add(tf.keras.layers.Conv2D(512,(3,3),strides=(2,2),padding='valid',activation='relu'))\n",
        "model.add(tf.keras.layers.Conv2D(512,(3,3),strides=(2,2),padding='valid',activation='relu'))\n",
        "model.add(tf.keras.layers.BatchNormalization())\n",
        "model.add(tf.keras.layers.Dropout(rate=0.5))\n",
        "model.add(tf.keras.layers.MaxPooling2D(strides=(2,2)))\n",
        "\n",
        "model.add(tf.keras.layers.Flatten())\n",
        "model.add(tf.keras.layers.BatchNormalization())\n",
        "\n",
        "# Dense-1\n",
        "model.add(tf.keras.layers.Dense(1024,activation='relu'))\n",
        "model.add(tf.keras.layers.BatchNormalization())\n",
        "model.add(tf.keras.layers.Dropout(rate=0.5))\n",
        "\n",
        "#Dense-2\n",
        "model.add(tf.keras.layers.Dense(512,activation='relu'))\n",
        "model.add(tf.keras.layers.BatchNormalization())\n",
        "model.add(tf.keras.layers.Dropout(rate=0.3))\n",
        "\n",
        "#output layer\n",
        "model.add(tf.keras.layers.Dense(7,activation='softmax'))\n",
        "\n",
        "\n",
        "#compiling the model\n",
        "model.compile(optimizer=tf.keras.optimizers.Adam(lr=0.001), \n",
        "              loss='sparse_categorical_crossentropy', \n",
        "              metrics=['accuracy'])\n",
        "\n",
        "# view model layers\n",
        "model.summary()\n"
      ],
      "execution_count": 23,
      "outputs": [
        {
          "output_type": "stream",
          "text": [
            "Model: \"sequential\"\n",
            "_________________________________________________________________\n",
            "Layer (type)                 Output Shape              Param #   \n",
            "=================================================================\n",
            "conv2d (Conv2D)              (None, 48, 48, 32)        320       \n",
            "_________________________________________________________________\n",
            "conv2d_1 (Conv2D)            (None, 48, 48, 32)        9248      \n",
            "_________________________________________________________________\n",
            "batch_normalization (BatchNo (None, 48, 48, 32)        128       \n",
            "_________________________________________________________________\n",
            "dropout (Dropout)            (None, 48, 48, 32)        0         \n",
            "_________________________________________________________________\n",
            "conv2d_2 (Conv2D)            (None, 48, 48, 64)        18496     \n",
            "_________________________________________________________________\n",
            "conv2d_3 (Conv2D)            (None, 48, 48, 128)       73856     \n",
            "_________________________________________________________________\n",
            "batch_normalization_1 (Batch (None, 48, 48, 128)       512       \n",
            "_________________________________________________________________\n",
            "dropout_1 (Dropout)          (None, 48, 48, 128)       0         \n",
            "_________________________________________________________________\n",
            "max_pooling2d (MaxPooling2D) (None, 24, 24, 128)       0         \n",
            "_________________________________________________________________\n",
            "conv2d_4 (Conv2D)            (None, 24, 24, 256)       295168    \n",
            "_________________________________________________________________\n",
            "conv2d_5 (Conv2D)            (None, 24, 24, 256)       590080    \n",
            "_________________________________________________________________\n",
            "batch_normalization_2 (Batch (None, 24, 24, 256)       1024      \n",
            "_________________________________________________________________\n",
            "dropout_2 (Dropout)          (None, 24, 24, 256)       0         \n",
            "_________________________________________________________________\n",
            "max_pooling2d_1 (MaxPooling2 (None, 12, 12, 256)       0         \n",
            "_________________________________________________________________\n",
            "conv2d_6 (Conv2D)            (None, 5, 5, 512)         1180160   \n",
            "_________________________________________________________________\n",
            "conv2d_7 (Conv2D)            (None, 2, 2, 512)         2359808   \n",
            "_________________________________________________________________\n",
            "batch_normalization_3 (Batch (None, 2, 2, 512)         2048      \n",
            "_________________________________________________________________\n",
            "dropout_3 (Dropout)          (None, 2, 2, 512)         0         \n",
            "_________________________________________________________________\n",
            "max_pooling2d_2 (MaxPooling2 (None, 1, 1, 512)         0         \n",
            "_________________________________________________________________\n",
            "flatten (Flatten)            (None, 512)               0         \n",
            "_________________________________________________________________\n",
            "batch_normalization_4 (Batch (None, 512)               2048      \n",
            "_________________________________________________________________\n",
            "dense (Dense)                (None, 1024)              525312    \n",
            "_________________________________________________________________\n",
            "batch_normalization_5 (Batch (None, 1024)              4096      \n",
            "_________________________________________________________________\n",
            "dropout_4 (Dropout)          (None, 1024)              0         \n",
            "_________________________________________________________________\n",
            "dense_1 (Dense)              (None, 512)               524800    \n",
            "_________________________________________________________________\n",
            "batch_normalization_6 (Batch (None, 512)               2048      \n",
            "_________________________________________________________________\n",
            "dropout_5 (Dropout)          (None, 512)               0         \n",
            "_________________________________________________________________\n",
            "dense_2 (Dense)              (None, 7)                 3591      \n",
            "=================================================================\n",
            "Total params: 5,592,743\n",
            "Trainable params: 5,586,791\n",
            "Non-trainable params: 5,952\n",
            "_________________________________________________________________\n"
          ],
          "name": "stdout"
        }
      ]
    },
    {
      "cell_type": "code",
      "metadata": {
        "id": "GlCWGiQAggEv",
        "outputId": "d450da47-4822-45c0-b521-21fc16146157",
        "colab": {
          "base_uri": "https://localhost:8080/",
          "height": 1000
        }
      },
      "source": [
        "# using early stopping as a callback\n",
        "\n",
        "es_callback = tf.keras.callbacks.EarlyStopping(monitor='val_loss', \n",
        "                                               patience=10, \n",
        "                                               verbose=1,\n",
        "                                               restore_best_weights=True)\n",
        "\n",
        "# training the model\n",
        "\n",
        "history = model.fit(train_datagen.flow(training_data, y_train, batch_size=64),\n",
        "                    steps_per_epoch=training_data.shape[0] // 64,\n",
        "                    callbacks=[es_callback,],\n",
        "                    validation_data=(val_data,y_val),\n",
        "                    epochs = 200, verbose = 1,\n",
        "                    )"
      ],
      "execution_count": 24,
      "outputs": [
        {
          "output_type": "stream",
          "text": [
            "Epoch 1/200\n",
            "448/448 [==============================] - 33s 74ms/step - loss: 2.1155 - accuracy: 0.2029 - val_loss: 2.5174 - val_accuracy: 0.2494\n",
            "Epoch 2/200\n",
            "448/448 [==============================] - 33s 75ms/step - loss: 1.8858 - accuracy: 0.2310 - val_loss: 2.3570 - val_accuracy: 0.2435\n",
            "Epoch 3/200\n",
            "448/448 [==============================] - 34s 75ms/step - loss: 1.8159 - accuracy: 0.2592 - val_loss: 12.8399 - val_accuracy: 0.2480\n",
            "Epoch 4/200\n",
            "448/448 [==============================] - 33s 75ms/step - loss: 1.7486 - accuracy: 0.2907 - val_loss: 4.3396 - val_accuracy: 0.3221\n",
            "Epoch 5/200\n",
            "448/448 [==============================] - 34s 75ms/step - loss: 1.6945 - accuracy: 0.3201 - val_loss: 1.7718 - val_accuracy: 0.2193\n",
            "Epoch 6/200\n",
            "448/448 [==============================] - 33s 75ms/step - loss: 1.7235 - accuracy: 0.2973 - val_loss: 10.8453 - val_accuracy: 0.2494\n",
            "Epoch 7/200\n",
            "448/448 [==============================] - 33s 75ms/step - loss: 1.6403 - accuracy: 0.3490 - val_loss: 3.8487 - val_accuracy: 0.3012\n",
            "Epoch 8/200\n",
            "448/448 [==============================] - 33s 75ms/step - loss: 1.5607 - accuracy: 0.3920 - val_loss: 1.7535 - val_accuracy: 0.3466\n",
            "Epoch 9/200\n",
            "448/448 [==============================] - 33s 75ms/step - loss: 1.5034 - accuracy: 0.4205 - val_loss: 1.6680 - val_accuracy: 0.3993\n",
            "Epoch 10/200\n",
            "448/448 [==============================] - 34s 75ms/step - loss: 1.4622 - accuracy: 0.4357 - val_loss: 2.1708 - val_accuracy: 0.2953\n",
            "Epoch 11/200\n",
            "448/448 [==============================] - 34s 75ms/step - loss: 1.4082 - accuracy: 0.4588 - val_loss: 1.6779 - val_accuracy: 0.4191\n",
            "Epoch 12/200\n",
            "448/448 [==============================] - 33s 75ms/step - loss: 1.3782 - accuracy: 0.4730 - val_loss: 1.6541 - val_accuracy: 0.4547\n",
            "Epoch 13/200\n",
            "448/448 [==============================] - 33s 75ms/step - loss: 1.3565 - accuracy: 0.4767 - val_loss: 1.5459 - val_accuracy: 0.4787\n",
            "Epoch 14/200\n",
            "448/448 [==============================] - 33s 74ms/step - loss: 1.3124 - accuracy: 0.4995 - val_loss: 1.4388 - val_accuracy: 0.4700\n",
            "Epoch 15/200\n",
            "448/448 [==============================] - 33s 74ms/step - loss: 1.3055 - accuracy: 0.5024 - val_loss: 1.4614 - val_accuracy: 0.4519\n",
            "Epoch 16/200\n",
            "448/448 [==============================] - 33s 74ms/step - loss: 1.2772 - accuracy: 0.5141 - val_loss: 1.3531 - val_accuracy: 0.4845\n",
            "Epoch 17/200\n",
            "448/448 [==============================] - 33s 74ms/step - loss: 1.2437 - accuracy: 0.5281 - val_loss: 1.4178 - val_accuracy: 0.4751\n",
            "Epoch 18/200\n",
            "448/448 [==============================] - 33s 74ms/step - loss: 1.2882 - accuracy: 0.5102 - val_loss: 1.4229 - val_accuracy: 0.4508\n",
            "Epoch 19/200\n",
            "448/448 [==============================] - 33s 74ms/step - loss: 1.2282 - accuracy: 0.5322 - val_loss: 1.6453 - val_accuracy: 0.4820\n",
            "Epoch 20/200\n",
            "448/448 [==============================] - 33s 74ms/step - loss: 1.1986 - accuracy: 0.5483 - val_loss: 1.6774 - val_accuracy: 0.4968\n",
            "Epoch 21/200\n",
            "448/448 [==============================] - 33s 74ms/step - loss: 1.2042 - accuracy: 0.5426 - val_loss: 2.6017 - val_accuracy: 0.1962\n",
            "Epoch 22/200\n",
            "448/448 [==============================] - 33s 74ms/step - loss: 1.2536 - accuracy: 0.5216 - val_loss: 1.2828 - val_accuracy: 0.4987\n",
            "Epoch 23/200\n",
            "448/448 [==============================] - 33s 74ms/step - loss: 1.1884 - accuracy: 0.5486 - val_loss: 1.5848 - val_accuracy: 0.4007\n",
            "Epoch 24/200\n",
            "448/448 [==============================] - 33s 74ms/step - loss: 1.1682 - accuracy: 0.5544 - val_loss: 1.3398 - val_accuracy: 0.4848\n",
            "Epoch 25/200\n",
            "448/448 [==============================] - 33s 74ms/step - loss: 1.1600 - accuracy: 0.5600 - val_loss: 1.2712 - val_accuracy: 0.5052\n",
            "Epoch 26/200\n",
            "448/448 [==============================] - 33s 74ms/step - loss: 1.1466 - accuracy: 0.5662 - val_loss: 1.1640 - val_accuracy: 0.5433\n",
            "Epoch 27/200\n",
            "448/448 [==============================] - 33s 74ms/step - loss: 1.1371 - accuracy: 0.5664 - val_loss: 1.2724 - val_accuracy: 0.5099\n",
            "Epoch 28/200\n",
            "448/448 [==============================] - 33s 74ms/step - loss: 1.1282 - accuracy: 0.5721 - val_loss: 1.2818 - val_accuracy: 0.5107\n",
            "Epoch 29/200\n",
            "448/448 [==============================] - 33s 74ms/step - loss: 1.1223 - accuracy: 0.5752 - val_loss: 1.1999 - val_accuracy: 0.5503\n",
            "Epoch 30/200\n",
            "448/448 [==============================] - 33s 74ms/step - loss: 1.1097 - accuracy: 0.5809 - val_loss: 1.1645 - val_accuracy: 0.5581\n",
            "Epoch 31/200\n",
            "448/448 [==============================] - 33s 75ms/step - loss: 1.1008 - accuracy: 0.5833 - val_loss: 1.1483 - val_accuracy: 0.5662\n",
            "Epoch 32/200\n",
            "448/448 [==============================] - 33s 74ms/step - loss: 1.0957 - accuracy: 0.5846 - val_loss: 1.1698 - val_accuracy: 0.5464\n",
            "Epoch 33/200\n",
            "448/448 [==============================] - 33s 74ms/step - loss: 1.0845 - accuracy: 0.5870 - val_loss: 1.1236 - val_accuracy: 0.5681\n",
            "Epoch 34/200\n",
            "448/448 [==============================] - 33s 74ms/step - loss: 1.0805 - accuracy: 0.5899 - val_loss: 1.1958 - val_accuracy: 0.5425\n",
            "Epoch 35/200\n",
            "448/448 [==============================] - 33s 74ms/step - loss: 1.0708 - accuracy: 0.5941 - val_loss: 1.2519 - val_accuracy: 0.5483\n",
            "Epoch 36/200\n",
            "448/448 [==============================] - 33s 74ms/step - loss: 1.0665 - accuracy: 0.5975 - val_loss: 1.1045 - val_accuracy: 0.5846\n",
            "Epoch 37/200\n",
            "448/448 [==============================] - 34s 75ms/step - loss: 1.0597 - accuracy: 0.6014 - val_loss: 1.1876 - val_accuracy: 0.5573\n",
            "Epoch 38/200\n",
            "448/448 [==============================] - 33s 74ms/step - loss: 1.0535 - accuracy: 0.6032 - val_loss: 1.1312 - val_accuracy: 0.5773\n",
            "Epoch 39/200\n",
            "448/448 [==============================] - 33s 74ms/step - loss: 1.0523 - accuracy: 0.6032 - val_loss: 1.2717 - val_accuracy: 0.5598\n",
            "Epoch 40/200\n",
            "448/448 [==============================] - 33s 74ms/step - loss: 1.0519 - accuracy: 0.6026 - val_loss: 1.1223 - val_accuracy: 0.5756\n",
            "Epoch 41/200\n",
            "448/448 [==============================] - 33s 74ms/step - loss: 1.0390 - accuracy: 0.6068 - val_loss: 1.1410 - val_accuracy: 0.5754\n",
            "Epoch 42/200\n",
            "448/448 [==============================] - 33s 74ms/step - loss: 1.0303 - accuracy: 0.6134 - val_loss: 1.1896 - val_accuracy: 0.5575\n",
            "Epoch 43/200\n",
            "448/448 [==============================] - 33s 74ms/step - loss: 1.0246 - accuracy: 0.6138 - val_loss: 1.1992 - val_accuracy: 0.5495\n",
            "Epoch 44/200\n",
            "448/448 [==============================] - 33s 74ms/step - loss: 1.0221 - accuracy: 0.6131 - val_loss: 1.2133 - val_accuracy: 0.5559\n",
            "Epoch 45/200\n",
            "448/448 [==============================] - 33s 74ms/step - loss: 1.0112 - accuracy: 0.6209 - val_loss: 1.2969 - val_accuracy: 0.5188\n",
            "Epoch 46/200\n",
            "448/448 [==============================] - ETA: 0s - loss: 1.0123 - accuracy: 0.6182Restoring model weights from the end of the best epoch.\n",
            "448/448 [==============================] - 33s 74ms/step - loss: 1.0123 - accuracy: 0.6182 - val_loss: 1.1586 - val_accuracy: 0.5717\n",
            "Epoch 00046: early stopping\n"
          ],
          "name": "stdout"
        }
      ]
    },
    {
      "cell_type": "code",
      "metadata": {
        "id": "F2zrgwg92j81",
        "outputId": "a94caa44-321c-420f-f167-f99685357741",
        "colab": {
          "base_uri": "https://localhost:8080/",
          "height": 265
        }
      },
      "source": [
        "#tracking the losses and accuracy \n",
        "fig, ax = plt.subplots(1, 2, figsize=(10, 4))\n",
        "\n",
        "history_df = pd.DataFrame(history.history)\n",
        "history_df[['loss', 'val_loss']].plot(kind='line', ax=ax[0])\n",
        "history_df[['accuracy', 'val_accuracy']].plot(kind='line', ax=ax[1]);"
      ],
      "execution_count": 25,
      "outputs": [
        {
          "output_type": "display_data",
          "data": {
            "image/png": "[encoded data removed]",
            "text/plain": [
              "<Figure size 720x288 with 2 Axes>"
            ]
          },
          "metadata": {
            "tags": [],
            "needs_background": "light"
          }
        }
      ]
    },
    {
      "cell_type": "code",
      "metadata": {
        "id": "E28K-AOTca0j"
      },
      "source": [
        "#rescaling the testing data\n",
        "testing_data=testing_data/255.0"
      ],
      "execution_count": 26,
      "outputs": []
    },
    {
      "cell_type": "code",
      "metadata": {
        "id": "brIlzjLFFWoP",
        "outputId": "94bb6414-6d43-44fd-96cd-cc86a8a60df7",
        "colab": {
          "base_uri": "https://localhost:8080/",
          "height": 50
        }
      },
      "source": [
        "# evaluating on the testing data\n",
        "model.evaluate(testing_data,y_test)"
      ],
      "execution_count": 27,
      "outputs": [
        {
          "output_type": "stream",
          "text": [
            "113/113 [==============================] - 1s 10ms/step - loss: 1.0567 - accuracy: 0.5915\n"
          ],
          "name": "stdout"
        },
        {
          "output_type": "execute_result",
          "data": {
            "text/plain": [
              "[1.0566763877868652, 0.5915296673774719]"
            ]
          },
          "metadata": {
            "tags": []
          },
          "execution_count": 27
        }
      ]
    },
    {
      "cell_type": "markdown",
      "metadata": {
        "id": "UnplJm8GLdpe"
      },
      "source": [
        "Achieved an accuracy of 59.152 % "
      ]
    },
    {
      "cell_type": "code",
      "metadata": {
        "id": "MElVRt24E_0U"
      },
      "source": [
        "#saving the model architechture along with the weights\n",
        "model.save('Fer2013_cnn.h5') "
      ],
      "execution_count": 32,
      "outputs": []
    },
    {
      "cell_type": "code",
      "metadata": {
        "id": "7C-F_3C5coar"
      },
      "source": [
        "from keras.models import load_model"
      ],
      "execution_count": 34,
      "outputs": []
    },
    {
      "cell_type": "code",
      "metadata": {
        "id": "QHoVjUU6AJ7s"
      },
      "source": [
        "cc=load_model('Fer2013_cnn.h5')"
      ],
      "execution_count": 35,
      "outputs": []
    },
    {
      "cell_type": "code",
      "metadata": {
        "id": "4r-rqdamASc8",
        "outputId": "40879ae3-771c-41c3-91ca-463e50f5cff8",
        "colab": {
          "base_uri": "https://localhost:8080/",
          "height": 1000
        }
      },
      "source": [
        "cc.summary()"
      ],
      "execution_count": 38,
      "outputs": [
        {
          "output_type": "stream",
          "text": [
            "Model: \"sequential\"\n",
            "_________________________________________________________________\n",
            "Layer (type)                 Output Shape              Param #   \n",
            "=================================================================\n",
            "conv2d (Conv2D)              (None, 48, 48, 32)        320       \n",
            "_________________________________________________________________\n",
            "conv2d_1 (Conv2D)            (None, 48, 48, 32)        9248      \n",
            "_________________________________________________________________\n",
            "batch_normalization (BatchNo (None, 48, 48, 32)        128       \n",
            "_________________________________________________________________\n",
            "dropout (Dropout)            (None, 48, 48, 32)        0         \n",
            "_________________________________________________________________\n",
            "conv2d_2 (Conv2D)            (None, 48, 48, 64)        18496     \n",
            "_________________________________________________________________\n",
            "conv2d_3 (Conv2D)            (None, 48, 48, 128)       73856     \n",
            "_________________________________________________________________\n",
            "batch_normalization_1 (Batch (None, 48, 48, 128)       512       \n",
            "_________________________________________________________________\n",
            "dropout_1 (Dropout)          (None, 48, 48, 128)       0         \n",
            "_________________________________________________________________\n",
            "max_pooling2d (MaxPooling2D) (None, 24, 24, 128)       0         \n",
            "_________________________________________________________________\n",
            "conv2d_4 (Conv2D)            (None, 24, 24, 256)       295168    \n",
            "_________________________________________________________________\n",
            "conv2d_5 (Conv2D)            (None, 24, 24, 256)       590080    \n",
            "_________________________________________________________________\n",
            "batch_normalization_2 (Batch (None, 24, 24, 256)       1024      \n",
            "_________________________________________________________________\n",
            "dropout_2 (Dropout)          (None, 24, 24, 256)       0         \n",
            "_________________________________________________________________\n",
            "max_pooling2d_1 (MaxPooling2 (None, 12, 12, 256)       0         \n",
            "_________________________________________________________________\n",
            "conv2d_6 (Conv2D)            (None, 5, 5, 512)         1180160   \n",
            "_________________________________________________________________\n",
            "conv2d_7 (Conv2D)            (None, 2, 2, 512)         2359808   \n",
            "_________________________________________________________________\n",
            "batch_normalization_3 (Batch (None, 2, 2, 512)         2048      \n",
            "_________________________________________________________________\n",
            "dropout_3 (Dropout)          (None, 2, 2, 512)         0         \n",
            "_________________________________________________________________\n",
            "max_pooling2d_2 (MaxPooling2 (None, 1, 1, 512)         0         \n",
            "_________________________________________________________________\n",
            "flatten (Flatten)            (None, 512)               0         \n",
            "_________________________________________________________________\n",
            "batch_normalization_4 (Batch (None, 512)               2048      \n",
            "_________________________________________________________________\n",
            "dense (Dense)                (None, 1024)              525312    \n",
            "_________________________________________________________________\n",
            "batch_normalization_5 (Batch (None, 1024)              4096      \n",
            "_________________________________________________________________\n",
            "dropout_4 (Dropout)          (None, 1024)              0         \n",
            "_________________________________________________________________\n",
            "dense_1 (Dense)              (None, 512)               524800    \n",
            "_________________________________________________________________\n",
            "batch_normalization_6 (Batch (None, 512)               2048      \n",
            "_________________________________________________________________\n",
            "dropout_5 (Dropout)          (None, 512)               0         \n",
            "_________________________________________________________________\n",
            "dense_2 (Dense)              (None, 7)                 3591      \n",
            "=================================================================\n",
            "Total params: 5,592,743\n",
            "Trainable params: 5,586,791\n",
            "Non-trainable params: 5,952\n",
            "_________________________________________________________________\n"
          ],
          "name": "stdout"
        }
      ]
    },
    {
      "cell_type": "code",
      "metadata": {
        "id": "shgs-jrSBQyU",
        "outputId": "b77b0b90-bc04-41d6-ea33-8dbc24809402",
        "colab": {
          "base_uri": "https://localhost:8080/",
          "height": 284
        }
      },
      "source": [
        "plt.imshow(testing_data[0].reshape(48,48),cmap='gray')"
      ],
      "execution_count": 44,
      "outputs": [
        {
          "output_type": "execute_result",
          "data": {
            "text/plain": [
              "<matplotlib.image.AxesImage at 0x7f2cea01c278>"
            ]
          },
          "metadata": {
            "tags": []
          },
          "execution_count": 44
        },
        {
          "output_type": "display_data",
          "data": {
            "image/png": "[encoded data removed]",
            "text/plain": [
              "<Figure size 432x288 with 1 Axes>"
            ]
          },
          "metadata": {
            "tags": [],
            "needs_background": "light"
          }
        }
      ]
    },
    {
      "cell_type": "code",
      "metadata": {
        "id": "ThudgwdTAwgj",
        "outputId": "218692ed-7978-4a3d-bde1-73a254d2a90f",
        "colab": {
          "base_uri": "https://localhost:8080/",
          "height": 35
        }
      },
      "source": [
        "emotion_labels[np.argmax(cc.predict(testing_data[0].reshape(1,48,48,1)))]"
      ],
      "execution_count": 42,
      "outputs": [
        {
          "output_type": "execute_result",
          "data": {
            "application/vnd.google.colaboratory.intrinsic+json": {
              "type": "string"
            },
            "text/plain": [
              "'Angry'"
            ]
          },
          "metadata": {
            "tags": []
          },
          "execution_count": 42
        }
      ]
    },
    {
      "cell_type": "code",
      "metadata": {
        "id": "P0rAuDUACaGn"
      },
      "source": [
        ""
      ],
      "execution_count": null,
      "outputs": []
    }
  ]
}